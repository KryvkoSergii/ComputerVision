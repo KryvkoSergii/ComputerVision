{
 "cells": [
  {
   "cell_type": "markdown",
   "id": "fcde8443",
   "metadata": {},
   "source": [
    "## Homework 10 (WIP)\n",
    "\n",
    "In this homework, you are going to use and compare two different trackers (of your liking) and compare the results."
   ]
  },
  {
   "cell_type": "markdown",
   "id": "2c9ca4dc",
   "metadata": {},
   "source": [
    "### Step 1\n",
    "Decide what video you are going to use for this homework, select an object and generate the template. You can use any video you want (your own, from Youtube, etc.)\n",
    "and track any object you want (e.g. a car, a pedestrian, etc.)."
   ]
  },
  {
   "cell_type": "markdown",
   "id": "1c537d68",
   "metadata": {},
   "source": [
    "### Step 2\n",
    "Initialize a tracker (e.g. KCF)."
   ]
  },
  {
   "cell_type": "markdown",
   "id": "e34c63bf",
   "metadata": {},
   "source": [
    "### Step 3\n",
    "Run the tracker on the video and the selected object. Run the tracker for around 10-15 frames."
   ]
  },
  {
   "cell_type": "markdown",
   "id": "9152bb58",
   "metadata": {},
   "source": [
    "### Step 4\n",
    "For each frame, print the bounding box on the image and save it."
   ]
  },
  {
   "cell_type": "markdown",
   "id": "b64b5662",
   "metadata": {},
   "source": [
    "### Step 5\n",
    "Select a different tracker (e.g. CSRT) and repeat steps 2, 3 and 4."
   ]
  },
  {
   "cell_type": "markdown",
   "id": "ea9f27da",
   "metadata": {},
   "source": [
    "### Step 6\n",
    "Compare the results:\n",
    "* Do you see any differences? If so, what are they?\n",
    "* Does one tracker perform better than the other? In what way?"
   ]
  }
 ],
 "metadata": {
  "kernelspec": {
   "display_name": "Python 3 (ipykernel)",
   "language": "python",
   "name": "python3"
  },
  "language_info": {
   "codemirror_mode": {
    "name": "ipython",
    "version": 3
   },
   "file_extension": ".py",
   "mimetype": "text/x-python",
   "name": "python",
   "nbconvert_exporter": "python",
   "pygments_lexer": "ipython3",
   "version": "3.9.13"
  }
 },
 "nbformat": 4,
 "nbformat_minor": 5
}
